{
 "cells": [
  {
   "cell_type": "code",
   "execution_count": 1,
   "id": "ebdd3d92",
   "metadata": {},
   "outputs": [],
   "source": [
    "import glob\n",
    "import os \n",
    "import cv2 \n",
    "import random\n",
    "import matplotlib.pyplot as plt\n",
    "import numpy as np\n",
    "from PIL import Image\n",
    "import pandas as pd\n",
    "import skimage.io as io\n",
    "\n",
    "%matplotlib inline"
   ]
  },
  {
   "cell_type": "code",
   "execution_count": 2,
   "id": "02c27b0f",
   "metadata": {},
   "outputs": [],
   "source": [
    "# Get paths of all character images\n",
    "characters_dir = 'cropped_characters/*/*'\n",
    "char_images_path = glob.glob(characters_dir)"
   ]
  },
  {
   "cell_type": "code",
   "execution_count": 4,
   "id": "1334eea2",
   "metadata": {},
   "outputs": [],
   "source": [
    "for img_path in char_images_path:\n",
    "    crop_character(img_path=img_path, crop_percentage=0.25, verbose=False) "
   ]
  },
  {
   "cell_type": "code",
   "execution_count": 3,
   "id": "a89b5467",
   "metadata": {},
   "outputs": [],
   "source": [
    "\n",
    "def crop_character(img_path, crop_percentage=0.2, verbose=False):\n",
    "\n",
    "    img = io.imread(img_path)\n",
    "    if(verbose):\n",
    "        fig = plt.figure(figsize=(50,50))\n",
    "        fig.add_subplot(10,10,1)\n",
    "        plt.imshow(img)\n",
    "\n",
    "\n",
    "    # Notation: vertical axis is the y, horizontal axis is the x\n",
    "    img_height = img.shape[0]\n",
    "    img_width = img.shape[1]\n",
    "\n",
    "    # Most noise is in having a character to the right of the image\n",
    "    new_xmin = int(img_width * crop_percentage)\n",
    "    new_xmax = img_width - new_xmin\n",
    "\n",
    "    cropped_img = img[:,:new_xmax]\n",
    "    to_be_saved_img = Image.fromarray(cropped_img)\n",
    "    to_be_saved_img.save(img_path)\n",
    "    \n",
    "    if(verbose):\n",
    "        # Getting the label corresponding to this character\n",
    "        char_label = img_path.split('\\\\')[1]\n",
    "        fig.add_subplot(10,10,2)\n",
    "        plt.imshow(cropped_img)\n",
    "        plt.title(str(char_label))\n",
    "        plt.show()"
   ]
  }
 ],
 "metadata": {
  "kernelspec": {
   "display_name": "Python 3",
   "language": "python",
   "name": "python3"
  },
  "language_info": {
   "codemirror_mode": {
    "name": "ipython",
    "version": 3
   },
   "file_extension": ".py",
   "mimetype": "text/x-python",
   "name": "python",
   "nbconvert_exporter": "python",
   "pygments_lexer": "ipython3",
   "version": "3.8.8"
  }
 },
 "nbformat": 4,
 "nbformat_minor": 5
}
