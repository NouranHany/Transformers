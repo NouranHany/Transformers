{
 "cells": [
  {
   "cell_type": "markdown",
   "id": "271f76de",
   "metadata": {},
   "source": [
    "# Crop bbxs borders to fit well."
   ]
  },
  {
   "cell_type": "code",
   "execution_count": 2,
   "id": "ebdd3d92",
   "metadata": {},
   "outputs": [],
   "source": [
    "import glob\n",
    "import matplotlib.pyplot as plt\n",
    "import numpy as np\n",
    "from PIL import Image\n",
    "import skimage.io as io\n",
    "\n",
    "%matplotlib inline"
   ]
  },
  {
   "cell_type": "code",
   "execution_count": 3,
   "id": "02c27b0f",
   "metadata": {},
   "outputs": [],
   "source": [
    "# Get paths of all character images\n",
    "characters_dir = 'cropped_characters/*/*'\n",
    "char_images_path = glob.glob(characters_dir)"
   ]
  },
  {
   "cell_type": "code",
   "execution_count": 6,
   "id": "a89b5467",
   "metadata": {},
   "outputs": [],
   "source": [
    "'''\n",
    "Crop an image with some percentage and replace with the cropped image.\n",
    "\n",
    "params:\n",
    "------\n",
    "img_path          string  path of the image to be cropped.\n",
    "crop_percentage   float   percentage to crop all sides with expect for the right side.\n",
    "r_crop_percentage float   percentage to crop the right side with.\n",
    "verbose           bool    defualt false. If true, print some visualizations of the image pre and post cropping.\n",
    "\n",
    "'''\n",
    "def crop_character(img_path, crop_percentage=0.05, r_crop_percentage=0.25, verbose=False):\n",
    "\n",
    "    img = io.imread(img_path)\n",
    "    if(verbose):\n",
    "        fig = plt.figure(figsize=(50,50))\n",
    "        fig.add_subplot(10,10,1)\n",
    "        plt.imshow(img)\n",
    "\n",
    "\n",
    "    # Notation: vertical axis is the y, horizontal axis is the x\n",
    "    img_height = img.shape[0]\n",
    "    img_width = img.shape[1]\n",
    "\n",
    "    new_xmin = int(img_width * crop_percentage)\n",
    "    new_xmax = img_width - int(img_width * r_crop_percentage)\n",
    "    new_ymin = int(img_height * crop_percentage)\n",
    "    new_ymax = img_height - new_ymin\n",
    "    \n",
    "    # Cropping the image and saving it with the same name\n",
    "    cropped_img = img[new_ymin:new_ymax, new_xmin:new_xmax]\n",
    "    to_be_saved_img = Image.fromarray(cropped_img)\n",
    "    to_be_saved_img.save(img_path)\n",
    "    \n",
    "    if(verbose):\n",
    "        # Getting the label corresponding to this character\n",
    "        char_label = img_path.split('\\\\')[1]\n",
    "        fig.add_subplot(10,10,2)\n",
    "        plt.imshow(cropped_img)\n",
    "        plt.title(str(char_label))\n",
    "        plt.show()"
   ]
  },
  {
   "cell_type": "code",
   "execution_count": 7,
   "id": "1334eea2",
   "metadata": {},
   "outputs": [],
   "source": [
    "for img_path in char_images_path:\n",
    "    # Most noise is in having a character to the right of the image\n",
    "    # Thus will only crop the right side\n",
    "    crop_character(img_path=img_path, crop_percentage=0.0, r_crop_percentage=0.25, verbose=False) "
   ]
  }
 ],
 "metadata": {
  "kernelspec": {
   "display_name": "Python 3 (ipykernel)",
   "language": "python",
   "name": "python3"
  },
  "language_info": {
   "codemirror_mode": {
    "name": "ipython",
    "version": 3
   },
   "file_extension": ".py",
   "mimetype": "text/x-python",
   "name": "python",
   "nbconvert_exporter": "python",
   "pygments_lexer": "ipython3",
   "version": "3.9.7"
  }
 },
 "nbformat": 4,
 "nbformat_minor": 5
}
