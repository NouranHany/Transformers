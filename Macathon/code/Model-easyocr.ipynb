{
 "cells": [
  {
   "cell_type": "code",
   "execution_count": 12,
   "id": "5dc206b0",
   "metadata": {},
   "outputs": [],
   "source": [
    "import numpy as np\n",
    "from PIL import Image\n",
    "import time\n",
    "import streamlit as st\n",
    "import random\n",
    "import easyocr\n",
    "import cv2\n",
    "import os\n",
    "import skimage.io as io\n",
    "import glob"
   ]
  },
  {
   "cell_type": "code",
   "execution_count": 16,
   "id": "4ffcf925",
   "metadata": {},
   "outputs": [],
   "source": [
    "def get_reader_lang(lang='ar'):\n",
    "    reader = easyocr.Reader([lang])\n",
    "    return reader\n",
    "def get_result(image, lang='ar'):\n",
    "    reader = get_reader_lang(lang)\n",
    "    result = reader.readtext(image)\n",
    "    return result "
   ]
  },
  {
   "cell_type": "code",
   "execution_count": 17,
   "id": "95518c0b",
   "metadata": {},
   "outputs": [],
   "source": [
    "# get image\n",
    "char_images_path = glob.glob('cropped_characters/*/*')\n",
    "randindx = random.randint(0,len(char_images_path))\n",
    "img = io.imread(char_images_path[randindx])"
   ]
  },
  {
   "cell_type": "code",
   "execution_count": 18,
   "id": "ab85e9bd",
   "metadata": {},
   "outputs": [
    {
     "name": "stderr",
     "output_type": "stream",
     "text": [
      "2022-03-24 18:14:40.850 CUDA not available - defaulting to CPU. Note: This module is much faster with a GPU.\n",
      "2022-03-24 18:14:40.851 Downloading detection model, please wait. This may take several minutes depending upon your network connection.\n"
     ]
    },
    {
     "name": "stdout",
     "output_type": "stream",
     "text": [
      "Progress: |██████████████████████████████████████████████████| 100.0% Complete\r"
     ]
    },
    {
     "name": "stderr",
     "output_type": "stream",
     "text": [
      "2022-03-24 18:15:54.083 Download complete\n",
      "2022-03-24 18:15:54.084 Downloading recognition model, please wait. This may take several minutes depending upon your network connection.\n"
     ]
    },
    {
     "name": "stdout",
     "output_type": "stream",
     "text": [
      "Progress: |██████████████████████████████████████████████████| 100.0% Complete\r"
     ]
    },
    {
     "name": "stderr",
     "output_type": "stream",
     "text": [
      "2022-03-24 18:18:19.163 Download complete.\n"
     ]
    },
    {
     "name": "stdout",
     "output_type": "stream",
     "text": [
      "[]\n"
     ]
    }
   ],
   "source": [
    "result = get_result(img)\n",
    "print(result)"
   ]
  },
  {
   "cell_type": "code",
   "execution_count": null,
   "id": "864ec8f5",
   "metadata": {},
   "outputs": [],
   "source": []
  }
 ],
 "metadata": {
  "kernelspec": {
   "display_name": "Python 3",
   "language": "python",
   "name": "python3"
  },
  "language_info": {
   "codemirror_mode": {
    "name": "ipython",
    "version": 3
   },
   "file_extension": ".py",
   "mimetype": "text/x-python",
   "name": "python",
   "nbconvert_exporter": "python",
   "pygments_lexer": "ipython3",
   "version": "3.8.8"
  }
 },
 "nbformat": 4,
 "nbformat_minor": 5
}
