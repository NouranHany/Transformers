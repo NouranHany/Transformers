{
 "cells": [
  {
   "cell_type": "markdown",
   "id": "50a0e515",
   "metadata": {},
   "source": [
    "# A script that for all images, crop boxes @ the bounding boxes coordinates given"
   ]
  },
  {
   "cell_type": "code",
   "execution_count": 151,
   "id": "d30b9f32",
   "metadata": {},
   "outputs": [],
   "source": [
    "# Read images and their corresponding bounding boxes\n",
    "# Crop images using their bounding boxes coordinates\n",
    "# Using the label of each bounding box, save that croped box in a subfolder accordingly"
   ]
  },
  {
   "cell_type": "code",
   "execution_count": 152,
   "id": "43e9cc18",
   "metadata": {},
   "outputs": [],
   "source": [
    "import glob\n",
    "import os \n",
    "import cv2 \n",
    "import random\n",
    "import matplotlib.pyplot as plt\n",
    "import numpy as np\n",
    "import skimage.io as io\n",
    "from PIL import Image\n",
    "import pandas as pd\n",
    "from bs4 import BeautifulSoup\n",
    "\n",
    "\n",
    "%matplotlib inline"
   ]
  },
  {
   "cell_type": "code",
   "execution_count": 153,
   "id": "7992c9ec",
   "metadata": {},
   "outputs": [
    {
     "name": "stdout",
     "output_type": "stream",
     "text": [
      "Number of images: 5279\n",
      "Number of images having bounding boxes: 383\n"
     ]
    }
   ],
   "source": [
    "train_box_dir = 'val_bbxs'\n",
    "train_images_dir = 'train_images'\n",
    "\n",
    "images_path = os.listdir(train_images_dir)\n",
    "images_boundingboxs = os.listdir(train_box_dir)\n",
    "\n",
    "print('Number of images:', len(images_path))\n",
    "print('Number of images having bounding boxes:', len(images_boundingboxs))"
   ]
  },
  {
   "cell_type": "code",
   "execution_count": 156,
   "id": "4fa2cf4b",
   "metadata": {},
   "outputs": [],
   "source": [
    "'''\n",
    "Crop bounding boxes inside an image\n",
    "\n",
    "Params:\n",
    "------\n",
    "fname           string   the txt file that contains the coordinates of the bounding boxes\n",
    "img_path        string   the path of the image to extract from the boxes\n",
    "label           string   the label of the car plate characters for the given img\n",
    "final_dir_path  string   the directory path to which save the charcaters subdirectories in\n",
    "verbose         bool     defualt false. If true, print some visualizations of the image and its cropped boxes\n",
    "\n",
    "'''\n",
    "def crop_img(fname, img_path, final_dir_path, filenames_dict={}, verbose=False):\n",
    "    \n",
    "    img = io.imread(img_path)\n",
    "    if (verbose):\n",
    "        plt.imshow(img)\n",
    "        \n",
    "    with open(fname, 'r', encoding=\"utf-8\") as f:\n",
    "        data = f.read()\n",
    "    \n",
    "    Bs_data = BeautifulSoup(data, \"html.parser\")\n",
    "    labels = np.array(Bs_data.find_all('name'))\n",
    "    xmins = np.array(Bs_data.find_all('xmin'), dtype=int)\n",
    "    ymins = np.array(Bs_data.find_all('ymin'), dtype=int)\n",
    "    xmaxs = np.array(Bs_data.find_all('xmax'), dtype=int)\n",
    "    ymaxs = np.array(Bs_data.find_all('ymax'), dtype=int)\n",
    "    bounding_boxs_data = np.hstack([xmins,ymins,xmaxs,ymaxs])\n",
    "\n",
    "    i = 1\n",
    "    if (verbose):\n",
    "        fig = plt.figure(figsize=(100, 100))\n",
    "        img_boxes= img.copy()\n",
    "\n",
    "    for xmin,ymin,xmax,ymax in bounding_boxs_data:\n",
    "        # For boxes out of image dimensions\n",
    "        xmin = 0 if (xmin<0) else xmin\n",
    "        ymin = 0 if (ymin<0) else ymin\n",
    "        xmax = img.shape[1] if (xmax>img.shape[1]) else xmax\n",
    "        ymax = img.shape[0] if (ymax>img.shape[0]) else ymax\n",
    "\n",
    "        # there are some boxes where xmin > xmax\n",
    "        if (xmin >=xmax):\n",
    "            continue\n",
    "        if (ymin >=ymax):\n",
    "            continue\n",
    "\n",
    "        # Cropping the bounding box\n",
    "        box = img[ymin:ymax,xmin:xmax, : ]\n",
    "        box_img = Image.fromarray(box)\n",
    "        # Getting the label corresponding to this box\n",
    "        char_label = labels[i-1][0]\n",
    "        subdir_path = os.path.join(final_dir_path,char_label)\n",
    "        \n",
    "        # If a directory for this label is not created before, create it\n",
    "        if not os.path.exists(subdir_path):\n",
    "            os.makedirs(subdir_path)\n",
    "            filenames_dict[char_label] = 0\n",
    "\n",
    "        box_img.save(os.path.join(subdir_path, str(filenames_dict[char_label])+'.jpg'))\n",
    "        filenames_dict[char_label]+=1\n",
    "        if (verbose):\n",
    "            img_with_bbxs = cv2.rectangle(img_boxes,(xmin, ymin), (xmax, ymax), (0,255,0))\n",
    "            fig.add_subplot(50,50, i)\n",
    "            plt.imshow(img[ymin:ymax,xmin:xmax, : ])\n",
    "        i += 1\n",
    "    if (verbose):\n",
    "        plt.show()\n",
    "        plt.imshow(img_with_bbxs)\n",
    "        plt.show()"
   ]
  },
  {
   "cell_type": "code",
   "execution_count": 157,
   "id": "b082f497",
   "metadata": {},
   "outputs": [],
   "source": [
    "filenames_dict={}\n",
    "\n",
    "for path in images_boundingboxs:\n",
    "    \n",
    "    full_path = os.path.join(train_box_dir, path)\n",
    "    file_num = full_path[:-4]\n",
    "    file_ext = full_path[-4:]\n",
    "    if(file_ext =='.jpg'):\n",
    "        xml_file_corres=path[:-4]+'.xml'\n",
    "        if xml_file_corres in images_boundingboxs:\n",
    "            crop_img(fname=full_path[:-4]+'.xml', img_path=full_path, verbose=False, final_dir_path='./val_cropped_characters', filenames_dict=filenames_dict)"
   ]
  },
  {
   "cell_type": "code",
   "execution_count": null,
   "id": "82adb82a",
   "metadata": {},
   "outputs": [],
   "source": []
  }
 ],
 "metadata": {
  "kernelspec": {
   "display_name": "Python 3 (ipykernel)",
   "language": "python",
   "name": "python3"
  },
  "language_info": {
   "codemirror_mode": {
    "name": "ipython",
    "version": 3
   },
   "file_extension": ".py",
   "mimetype": "text/x-python",
   "name": "python",
   "nbconvert_exporter": "python",
   "pygments_lexer": "ipython3",
   "version": "3.9.7"
  }
 },
 "nbformat": 4,
 "nbformat_minor": 5
}
