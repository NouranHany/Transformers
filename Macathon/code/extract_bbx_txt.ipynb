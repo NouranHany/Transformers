{
 "cells": [
  {
   "cell_type": "markdown",
   "id": "50a0e515",
   "metadata": {},
   "source": [
    "# A script that for all images, crop boxes @ the bounding boxes coordinates given. BBx data is stored in .txt format"
   ]
  },
  {
   "cell_type": "code",
   "execution_count": 1,
   "id": "d30b9f32",
   "metadata": {},
   "outputs": [],
   "source": [
    "# Read images and their corresponding bounding boxes\n",
    "# Crop images using their bounding boxes coordinates\n",
    "# Using the label of each bounding box, save that croped box in a subfolder accordingly"
   ]
  },
  {
   "cell_type": "code",
   "execution_count": 1,
   "id": "43e9cc18",
   "metadata": {},
   "outputs": [],
   "source": [
    "import glob\n",
    "import os \n",
    "import cv2 \n",
    "import random\n",
    "import matplotlib.pyplot as plt\n",
    "import numpy as np\n",
    "import skimage.io as io\n",
    "from PIL import Image\n",
    "import pandas as pd\n",
    "\n",
    "%matplotlib inline"
   ]
  },
  {
   "cell_type": "code",
   "execution_count": 2,
   "id": "7992c9ec",
   "metadata": {},
   "outputs": [
    {
     "name": "stdout",
     "output_type": "stream",
     "text": [
      "Number of images: 5279\n",
      "Number of images having bounding boxes: 4983\n"
     ]
    }
   ],
   "source": [
    "train_box_dir = 'train_bbxs'\n",
    "train_images_dir = 'train_images'\n",
    "\n",
    "images_path = os.listdir(train_images_dir)\n",
    "images_boundingboxs = os.listdir(train_box_dir)\n",
    "\n",
    "print('Number of images:', len(images_path))\n",
    "print('Number of images having bounding boxes:', len(images_boundingboxs))"
   ]
  },
  {
   "cell_type": "code",
   "execution_count": 3,
   "id": "e97fca29",
   "metadata": {},
   "outputs": [
    {
     "data": {
      "text/html": [
       "<div>\n",
       "<style scoped>\n",
       "    .dataframe tbody tr th:only-of-type {\n",
       "        vertical-align: middle;\n",
       "    }\n",
       "\n",
       "    .dataframe tbody tr th {\n",
       "        vertical-align: top;\n",
       "    }\n",
       "\n",
       "    .dataframe thead th {\n",
       "        text-align: right;\n",
       "    }\n",
       "</style>\n",
       "<table border=\"1\" class=\"dataframe\">\n",
       "  <thead>\n",
       "    <tr style=\"text-align: right;\">\n",
       "      <th></th>\n",
       "      <th>img_name</th>\n",
       "      <th>label</th>\n",
       "    </tr>\n",
       "  </thead>\n",
       "  <tbody>\n",
       "    <tr>\n",
       "      <th>0</th>\n",
       "      <td>00000.jpg</td>\n",
       "      <td>ا ظ ش 0 2 9</td>\n",
       "    </tr>\n",
       "    <tr>\n",
       "      <th>1</th>\n",
       "      <td>00001.jpg</td>\n",
       "      <td>ل ل 1</td>\n",
       "    </tr>\n",
       "    <tr>\n",
       "      <th>2</th>\n",
       "      <td>00002.jpg</td>\n",
       "      <td>ث ص ش 5 5</td>\n",
       "    </tr>\n",
       "    <tr>\n",
       "      <th>3</th>\n",
       "      <td>00003.jpg</td>\n",
       "      <td>ث غ د 2 5 2</td>\n",
       "    </tr>\n",
       "    <tr>\n",
       "      <th>4</th>\n",
       "      <td>00004.jpg</td>\n",
       "      <td>ش ف ب 3 3 4</td>\n",
       "    </tr>\n",
       "  </tbody>\n",
       "</table>\n",
       "</div>"
      ],
      "text/plain": [
       "    img_name        label\n",
       "0  00000.jpg  ا ظ ش 0 2 9\n",
       "1  00001.jpg        ل ل 1\n",
       "2  00002.jpg    ث ص ش 5 5\n",
       "3  00003.jpg  ث غ د 2 5 2\n",
       "4  00004.jpg  ش ف ب 3 3 4"
      ]
     },
     "execution_count": 3,
     "metadata": {},
     "output_type": "execute_result"
    }
   ],
   "source": [
    "df = pd.read_csv('train_labels.csv')\n",
    "df.head()"
   ]
  },
  {
   "cell_type": "code",
   "execution_count": 4,
   "id": "5bde9990",
   "metadata": {},
   "outputs": [
    {
     "data": {
      "text/plain": [
       "'ل ل 1'"
      ]
     },
     "execution_count": 4,
     "metadata": {},
     "output_type": "execute_result"
    }
   ],
   "source": [
    "df.iloc[1]['label']"
   ]
  },
  {
   "cell_type": "code",
   "execution_count": 5,
   "id": "4fa2cf4b",
   "metadata": {},
   "outputs": [],
   "source": [
    "'''\n",
    "Crop bounding boxes inside an image. bounding boxes data is stored in a txt file.\n",
    "\n",
    "Params:\n",
    "------\n",
    "fname           string   the txt file that contains the coordinates of the bounding boxes\n",
    "img_path        string   the path of the image to extract from the boxes\n",
    "label           string   the label of the car plate characters for the given img\n",
    "final_dir_path  string   the directory path to which save the charcaters subdirectories in\n",
    "character_freq  dict     dictionary containing the frequency of cropped characters from the given img\n",
    "verbose         bool     defualt false. If true, print some visualizations of the image and its cropped boxes\n",
    "\n",
    "'''\n",
    "def crop_img(fname, img_path, label, final_dir_path, character_freq={}, verbose=False):\n",
    "    \n",
    "    img = io.imread(img_path)\n",
    "    if (verbose):\n",
    "        plt.imshow(img)\n",
    "        \n",
    "    with open(fname, \"r+\") as file:\n",
    "        bounding_boxs_data = np.array([[int(position) for position in line.split(', ')] for line in file])\n",
    "        \n",
    "        i = 1\n",
    "        if (verbose):\n",
    "            fig = plt.figure(figsize=(100, 100))\n",
    "            img_boxes= img.copy()\n",
    "        \n",
    "        for xmin,ymin,xmax,ymax in bounding_boxs_data:\n",
    "            # For boxes out of image dimensions\n",
    "            xmin = 0 if (xmin<0) else xmin\n",
    "            ymin = 0 if (ymin<0) else ymin\n",
    "            xmax = img.shape[1] if (xmax>img.shape[1]) else xmax\n",
    "            ymax = img.shape[0] if (ymax>img.shape[0]) else ymax\n",
    "\n",
    "            # there are some boxes where xmin > xmax\n",
    "            if (xmin >=xmax):\n",
    "                continue\n",
    "            if (ymin >=ymax):\n",
    "                continue\n",
    "                \n",
    "            # Cropping the bounding box\n",
    "            box = img[ymin:ymax,xmin:xmax, : ]\n",
    "            box_img = Image.fromarray(box)\n",
    "            # Getting the label corresponding to this box\n",
    "            char_label = label.split()[i-1]\n",
    "            subdir_path = os.path.join(final_dir_path,char_label)\n",
    "            \n",
    "            # If a directory for this label is not created before, create it\n",
    "            if not os.path.exists(subdir_path):\n",
    "                os.makedirs(subdir_path)\n",
    "                character_freq[char_label] = 0\n",
    "            \n",
    "            box_img.save(os.path.join(subdir_path, str(character_freq[char_label])+'.jpg'))\n",
    "            character_freq[char_label]+=1\n",
    "            if (verbose):\n",
    "                img_with_bbxs = cv2.rectangle(img_boxes,(xmin, ymin), (xmax, ymax), (0,255,0))\n",
    "                fig.add_subplot(50,50, i)\n",
    "                plt.imshow(img[ymin:ymax,xmin:xmax, : ])\n",
    "            i += 1\n",
    "    if (verbose):\n",
    "        plt.show()\n",
    "        plt.imshow(img_with_bbxs)\n",
    "        plt.show()"
   ]
  },
  {
   "cell_type": "code",
   "execution_count": 6,
   "id": "b082f497",
   "metadata": {},
   "outputs": [],
   "source": [
    "character_freq={}\n",
    "\n",
    "for indx in range(0, len(images_boundingboxs)):\n",
    "\n",
    "    img_num = images_boundingboxs[indx][:-4]\n",
    "    fname = os.path.join(train_box_dir, images_boundingboxs[indx])\n",
    "    img_path = os.path.join(train_images_dir, img_num +'.jpg')\n",
    "\n",
    "    crop_img(fname=fname, img_path=img_path, label=df.iloc[int(img_num)]['label'], verbose=False, final_dir_path='./cropped_characters', character_freq=character_freq)"
   ]
  },
  {
   "cell_type": "code",
   "execution_count": 9,
   "id": "a8afa6cc",
   "metadata": {},
   "outputs": [
    {
     "data": {
      "text/plain": [
       "{'ا': 418,\n",
       " 'ظ': 493,\n",
       " 'ش': 450,\n",
       " '0': 1250,\n",
       " '2': 1273,\n",
       " '9': 1316,\n",
       " 'ل': 463,\n",
       " '1': 1312,\n",
       " 'ث': 443,\n",
       " 'ص': 418,\n",
       " '5': 1218,\n",
       " 'غ': 445,\n",
       " 'د': 446,\n",
       " 'ف': 443,\n",
       " 'ب': 442,\n",
       " '3': 1250,\n",
       " '4': 1210,\n",
       " 'ت': 446,\n",
       " '6': 1215,\n",
       " 'ع': 452,\n",
       " 'م': 469,\n",
       " 'س': 440,\n",
       " 'ذ': 428,\n",
       " '7': 1215,\n",
       " 'خ': 488,\n",
       " 'ك': 443,\n",
       " 'ه': 416,\n",
       " 'ق': 472,\n",
       " 'ج': 435,\n",
       " 'ض': 422,\n",
       " '8': 1234,\n",
       " 'ز': 430,\n",
       " 'و': 452,\n",
       " 'ح': 440,\n",
       " 'ر': 478,\n",
       " 'ى': 418,\n",
       " 'ن': 478,\n",
       " 'ط': 441}"
      ]
     },
     "execution_count": 9,
     "metadata": {},
     "output_type": "execute_result"
    }
   ],
   "source": [
    "character_freq"
   ]
  }
 ],
 "metadata": {
  "kernelspec": {
   "display_name": "Python 3 (ipykernel)",
   "language": "python",
   "name": "python3"
  },
  "language_info": {
   "codemirror_mode": {
    "name": "ipython",
    "version": 3
   },
   "file_extension": ".py",
   "mimetype": "text/x-python",
   "name": "python",
   "nbconvert_exporter": "python",
   "pygments_lexer": "ipython3",
   "version": "3.9.7"
  }
 },
 "nbformat": 4,
 "nbformat_minor": 5
}
