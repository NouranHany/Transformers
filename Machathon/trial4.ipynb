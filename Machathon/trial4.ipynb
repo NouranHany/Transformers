{
 "cells": [
  {
   "cell_type": "code",
   "execution_count": 1,
   "metadata": {},
   "outputs": [
    {
     "name": "stdout",
     "output_type": "stream",
     "text": [
      "Collecting opencv-contrib-python\n",
      "  Downloading opencv_contrib_python-4.5.5.64-cp36-abi3-win_amd64.whl (42.2 MB)\n",
      "Requirement already satisfied: numpy>=1.14.5 in c:\\python310\\lib\\site-packages (from opencv-contrib-python) (1.21.4)\n",
      "Installing collected packages: opencv-contrib-python\n",
      "Successfully installed opencv-contrib-python-4.5.5.64\n"
     ]
    },
    {
     "name": "stderr",
     "output_type": "stream",
     "text": [
      "WARNING: You are using pip version 21.3.1; however, version 22.0.4 is available.\n",
      "You should consider upgrading via the 'C:\\Python310\\python.exe -m pip install --upgrade pip' command.\n"
     ]
    },
    {
     "name": "stdout",
     "output_type": "stream",
     "text": [
      "Collecting imutils\n",
      "  Downloading imutils-0.5.4.tar.gz (17 kB)\n",
      "  Preparing metadata (setup.py): started\n",
      "  Preparing metadata (setup.py): finished with status 'done'\n"
     ]
    },
    {
     "name": "stderr",
     "output_type": "stream",
     "text": [
      "WARNING: You are using pip version 21.3.1; however, version 22.0.4 is available.\n",
      "You should consider upgrading via the 'C:\\Python310\\python.exe -m pip install --upgrade pip' command.\n"
     ]
    },
    {
     "name": "stdout",
     "output_type": "stream",
     "text": [
      "Building wheels for collected packages: imutils\n",
      "  Building wheel for imutils (setup.py): started\n",
      "  Building wheel for imutils (setup.py): finished with status 'done'\n",
      "  Created wheel for imutils: filename=imutils-0.5.4-py3-none-any.whl size=25860 sha256=e0569f30f3cdb5c850590c6522447bd10fa59947733455c1f561fd968d74d884\n",
      "  Stored in directory: c:\\users\\hossam saeed\\appdata\\local\\pip\\cache\\wheels\\85\\cf\\3a\\e265e975a1e7c7e54eb3692d6aa4e2e7d6a3945d29da46f2d7\n",
      "Successfully built imutils\n",
      "Installing collected packages: imutils\n",
      "Successfully installed imutils-0.5.4\n"
     ]
    }
   ],
   "source": [
    "!pip install opencv-contrib-python\n",
    "!pip install imutils"
   ]
  },
  {
   "cell_type": "code",
   "execution_count": 2,
   "metadata": {},
   "outputs": [],
   "source": [
    "#import pytesseract\n",
    "from imutils import paths\n",
    "import argparse\n",
    "import imutils\n",
    "import cv2\n",
    "import matplotlib.pyplot as plt\n",
    "import matplotlib.image as mpimg\n",
    "from skimage.segmentation import clear_border\n",
    "import numpy as np\n",
    "import skimage \n",
    "%matplotlib inline"
   ]
  },
  {
   "cell_type": "code",
   "execution_count": 44,
   "metadata": {},
   "outputs": [],
   "source": [
    "# module level variables ##########################################################################\n",
    "GAUSSIAN_SMOOTH_FILTER_SIZE = (5, 5)\n",
    "ADAPTIVE_THRESH_BLOCK_SIZE = 19\n",
    "ADAPTIVE_THRESH_WEIGHT = 9\n",
    "\n",
    "###################################################################################################\n",
    "def preprocess(imgOriginal):\n",
    "    imgSaturation, imgGrayscale = extractValue(imgOriginal)\n",
    "\n",
    "    imgMaxContrastGrayscale = maximizeContrast(imgGrayscale)\n",
    "\n",
    "    imgBlurred = cv2.GaussianBlur(imgMaxContrastGrayscale, GAUSSIAN_SMOOTH_FILTER_SIZE, 0)\n",
    "\n",
    "    imgThreshValue = cv2.threshold(imgBlurred, 0, 255, cv2.THRESH_BINARY | cv2.THRESH_OTSU)[1]\n",
    "    imgThreshSaturation = cv2.threshold(imgSaturation, 0, 255, cv2.THRESH_BINARY | cv2.THRESH_OTSU)[1]\n",
    "\n",
    "    plt.imshow(imgBlurred,cmap='gray')\n",
    "    plt.show()\n",
    "    plt.imshow(imgThreshValue,cmap='gray')\n",
    "    plt.show()\n",
    "\n",
    "    plt.imshow(imgSaturation,cmap='gray')\n",
    "    plt.show()\n",
    "    plt.imshow(imgThreshSaturation,cmap='gray')\n",
    "    plt.show()\n",
    "\n",
    "    #imgThresh = cv2.adaptiveThreshold(imgBlurred, 255.0, cv2.ADAPTIVE_THRESH_GAUSSIAN_C, cv2.THRESH_BINARY_INV, ADAPTIVE_THRESH_BLOCK_SIZE, ADAPTIVE_THRESH_WEIGHT)\n",
    "\n",
    "    return imgGrayscale, (imgThreshValue & (255 - imgThreshSaturation))\n",
    "# end function\n",
    "\n",
    "###################################################################################################\n",
    "def extractValue(imgOriginal):\n",
    "    height, width, numChannels = imgOriginal.shape\n",
    "\n",
    "    imgHSV = np.zeros((height, width, 3), np.uint8)\n",
    "\n",
    "    imgHSV = cv2.cvtColor(imgOriginal, cv2.COLOR_BGR2HSV)\n",
    "\n",
    "    imgHue, imgSaturation, imgValue = cv2.split(imgHSV)\n",
    "\n",
    "    return imgSaturation, imgValue\n",
    "# end function\n",
    "\n",
    "###################################################################################################\n",
    "def maximizeContrast(imgGrayscale):\n",
    "\n",
    "    height, width = imgGrayscale.shape\n",
    "\n",
    "    imgTopHat = np.zeros((height, width, 1), np.uint8)\n",
    "    imgBlackHat = np.zeros((height, width, 1), np.uint8)\n",
    "\n",
    "    structuringElement = cv2.getStructuringElement(cv2.MORPH_RECT, (3, 3))\n",
    "\n",
    "    imgTopHat = cv2.morphologyEx(imgGrayscale, cv2.MORPH_TOPHAT, structuringElement)\n",
    "    imgBlackHat = cv2.morphologyEx(imgGrayscale, cv2.MORPH_BLACKHAT, structuringElement)\n",
    "\n",
    "    imgGrayscalePlusTopHat = cv2.add(imgGrayscale, imgTopHat)\n",
    "    imgGrayscalePlusTopHatMinusBlackHat = cv2.subtract(imgGrayscalePlusTopHat, imgBlackHat)\n",
    "\n",
    "    return imgGrayscalePlusTopHatMinusBlackHat\n",
    "# end function"
   ]
  },
  {
   "cell_type": "code",
   "execution_count": null,
   "metadata": {},
   "outputs": [],
   "source": [
    "for i in range(278):\n",
    "    imgOriginal = cv2.imread(f\"./train_images/{str(i).zfill(5)}.jpg\")\n",
    "    plt.imshow(imgOriginal)\n",
    "    plt.show()\n",
    "    gray,thresh = preprocess(imgOriginal)\n",
    "    # plt.imshow(gray,cmap='gray')\n",
    "    # plt.show()\n",
    "    plt.imshow(thresh,cmap='gray')\n",
    "    plt.show()\n"
   ]
  },
  {
   "cell_type": "code",
   "execution_count": null,
   "metadata": {},
   "outputs": [],
   "source": []
  }
 ],
 "metadata": {
  "interpreter": {
   "hash": "9ec3806fa37c046e96177cde39d91853063cabd2f4b40f3fa73c3ac623a3a160"
  },
  "kernelspec": {
   "display_name": "Python 3.8.8 ('base')",
   "language": "python",
   "name": "python3"
  },
  "language_info": {
   "codemirror_mode": {
    "name": "ipython",
    "version": 3
   },
   "file_extension": ".py",
   "mimetype": "text/x-python",
   "name": "python",
   "nbconvert_exporter": "python",
   "pygments_lexer": "ipython3",
   "version": "3.10.0"
  },
  "orig_nbformat": 4
 },
 "nbformat": 4,
 "nbformat_minor": 2
}
